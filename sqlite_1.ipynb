{
 "cells": [
  {
   "cell_type": "code",
   "execution_count": 31,
   "metadata": {},
   "outputs": [],
   "source": [
    "import sqlite3\n",
    "import os\n",
    "import pandas as pd"
   ]
  },
  {
   "cell_type": "code",
   "execution_count": null,
   "id": "bbe246e1",
   "metadata": {},
   "outputs": [],
   "source": [
    "conn = sqlite3.connect(\"crypto_file.db\")\n",
    "cursor = conn.cursor()\n",
    "\n",
    "cursor.execute(\"\"\"\n",
    "CREATE TABLE IF NOT EXISTS coins (\n",
    "    coin_id INTEGER PRIMARY KEY,\n",
    "    name TEXT,\n",
    "    symbol TEXT\n",
    "    )\n",
    "    \"\"\")\n",
    "\n",
    "cursor.execute(\"\"\"\n",
    "CREATE TABLE IF NOT EXISTS prices (\n",
    "    price_id INTEGER PRIMARY KEY,\n",
    "    coin_id INTEGER,\n",
    "    price REAL,\n",
    "    date TEXT,\n",
    "    FOREIGN KEY (coin_id) REFERENCES coins (coin_id)\n",
    "    )\n",
    "    \"\"\")\n",
    "\n",
    "conn.commit()"
   ]
  },
  {
   "cell_type": "code",
   "execution_count": 33,
   "id": "053c5a4b",
   "metadata": {},
   "outputs": [],
   "source": [
    "conn = sqlite3.connect('crypto_file.db')\n",
    "cursor = conn.cursor()\n",
    "\n",
    "coins_data = [\n",
    "    (1, \"Solana\", \"SOL\"),\n",
    "    (2, \"Ethereum\", \"ETH\"),\n",
    "    (3, \"Bitcoin\", \"BTC\"),\n",
    "    (4, \"Ripple\", \"XRP\")]\n",
    "\n",
    "    # Insert 5 daily price records for each coin\n",
    "\n",
    "# Insert coins data\n",
    "cursor.executemany(\"INSERT OR IGNORE INTO coins VALUES (?, ?, ?)\", coins_data)\n",
    "\n",
    "\n",
    "prices_data = [\n",
    "    # Solana prices\n",
    "    (1, 1, 29123.50, \"2025-08-10\"),\n",
    "    (2, 1, 1004.75, \"2025-08-11\"),\n",
    "    (3, 1, 198.58, \"2025-08-12\"),\n",
    "    (4, 1, 409.80, \"2025-08-13\"),\n",
    "    (5, 1, 504.75, \"2025-08-14\"),\n",
    "    \n",
    "    # Ethereum prices\n",
    "    (6, 2, 1834.75, \"2025-08-10\"),\n",
    "    (7, 2, 3456.70, \"2025-08-11\"),\n",
    "    (8, 2, 15.95, \"2025-08-12\"),\n",
    "    (9, 2, 1745.00, \"2025-08-13\"),\n",
    "    (10, 2, 884.75, \"2025-08-14\"),\n",
    "\n",
    "    # Bitcoin prices\n",
    "    (11, 3, 7833.11, \"2025-08-10\"),\n",
    "    (12, 3, 8000.00, \"2025-08-11\"),\n",
    "    (13, 3, 7500.00, \"2025-08-12\"),\n",
    "    (14, 3, 7000.00, \"2025-08-13\"),\n",
    "    (15, 3, 6800.00, \"2025-08-14\"),\n",
    "\n",
    "    # Ripple prices\n",
    "    (16, 4, 0.50, \"2025-08-10\"),\n",
    "    (17, 4, 0.60, \"2025-08-11\"),\n",
    "    (18, 4, 0.55, \"2025-08-12\"),\n",
    "    (19, 4, 0.70, \"2025-08-13\"),\n",
    "    (20, 4, 0.75, \"2025-08-14\")\n",
    "]\n",
    "\n",
    "cursor.executemany(\"INSERT OR IGNORE INTO prices VALUES (?, ?, ?, ?)\", prices_data)\n",
    "conn.commit()"
   ]
  },
  {
   "cell_type": "code",
   "execution_count": 34,
   "id": "9991d141",
   "metadata": {},
   "outputs": [
    {
     "name": "stdout",
     "output_type": "stream",
     "text": [
      "    coin_id      name symbol        date    price\n",
      "0         1    Solana    SOL  2025-08-14   504.75\n",
      "1         1    Solana    SOL  2025-08-14   504.75\n",
      "2         2  Ethereum    ETH  2025-08-10  1834.75\n",
      "3         2  Ethereum    ETH  2025-08-11  3456.70\n",
      "4         2  Ethereum    ETH  2025-08-12    15.95\n",
      "5         2  Ethereum    ETH  2025-08-13  1745.00\n",
      "6         2  Ethereum    ETH  2025-08-14   884.75\n",
      "7         2  Ethereum    ETH  2025-08-14   884.75\n",
      "8         3   Bitcoin    BTC  2025-08-10  7833.11\n",
      "9         3   Bitcoin    BTC  2025-08-11  8000.00\n",
      "10        3   Bitcoin    BTC  2025-08-12  7500.00\n",
      "11        3   Bitcoin    BTC  2025-08-13  7000.00\n",
      "12        3   Bitcoin    BTC  2025-08-14  6800.00\n",
      "13        3   Bitcoin    BTC  2025-08-14  6800.00\n",
      "14        4    Ripple    XRP  2025-08-10     0.50\n",
      "15        4    Ripple    XRP  2025-08-11     0.60\n",
      "16        4    Ripple    XRP  2025-08-12     0.55\n",
      "17        4    Ripple    XRP  2025-08-13     0.70\n",
      "18        4    Ripple    XRP  2025-08-14     0.75\n",
      "19        4    Ripple    XRP  2025-08-14     0.75\n"
     ]
    }
   ],
   "source": [
    "# Import pandas for data manipulation\n",
    "conn = sqlite3.connect('crypto_file.db')\n",
    "\n",
    "# Join the coins and prices table\n",
    "query = \"\"\"\n",
    "    SELECT c.coin_id, c.name, c.symbol, p.date, p.price\n",
    "    FROM coins c\n",
    "    JOIN prices p ON c.coin_id = p.coin_id\n",
    "    ORDER BY c.coin_id, p.date\n",
    "\"\"\"\n",
    "\n",
    "\n",
    "\n",
    "# Read the query results into a pandas DataFrame\n",
    "df = pd.read_sql_query(query, conn)\n",
    "\n",
    "# View the DataFrame\n",
    "print(df)\n",
    "\n",
    "# Close the database connection\n",
    "conn.close()\n",
    "\n"
   ]
  },
  {
   "cell_type": "code",
   "execution_count": 35,
   "id": "a6ba2d81",
   "metadata": {},
   "outputs": [
    {
     "name": "stdout",
     "output_type": "stream",
     "text": [
      "Database connection closed.\n"
     ]
    }
   ],
   "source": [
    "conn.close()\n",
    "print(\"Database connection closed.\")"
   ]
  },
  {
   "cell_type": "markdown",
   "id": "d4ae66d5",
   "metadata": {},
   "source": [
    "###### Creating business question\n",
    "- What is the average price for each coin?\n",
    "- What is the highest price for each coin\n",
    "- What is the lowest price for each coin"
   ]
  },
  {
   "cell_type": "code",
   "execution_count": 36,
   "id": "0a59b6dd",
   "metadata": {},
   "outputs": [
    {
     "name": "stdout",
     "output_type": "stream",
     "text": [
      "\n",
      "Basic statistics:\n",
      "count      20.000000\n",
      "mean     2688.418000\n",
      "std      3236.073482\n",
      "min         0.500000\n",
      "25%         0.750000\n",
      "50%       884.750000\n",
      "75%      6800.000000\n",
      "max      8000.000000\n",
      "Name: price, dtype: float64\n",
      "\n",
      "Average price: 2688.418\n",
      "\n",
      "The coin with the Highest price is Bitcoin\n",
      "with the Market price of: 8000.0\n",
      "\n",
      "The coin with the Lowest price is Ripple\n",
      "with the Market price of: 0.5\n",
      "\n",
      "Total market price: 53768.36\n"
     ]
    }
   ],
   "source": [
    "\n",
    "# Checking the Whole statistics of my table\n",
    "print(\"\\nBasic statistics:\")\n",
    "print(df['price'].describe())\n",
    "\n",
    "print(\"\\nAverage price:\", df['price'].mean())\n",
    "print(\"\\nThe coin with the Highest price is\", df[\"name\"][df['price'].idxmax()])\n",
    "print(\"with the Market price of:\", df['price'].max())\n",
    "print(\"\\nThe coin with the Lowest price is\", df[\"name\"][df['price'].idxmin()])\n",
    "print(\"with the Market price of:\", df['price'].min())\n",
    "print(\"\\nTotal market price:\", df['price'].sum())"
   ]
  }
 ],
 "metadata": {
  "kernelspec": {
   "display_name": "Python 3",
   "language": "python",
   "name": "python3"
  },
  "language_info": {
   "codemirror_mode": {
    "name": "ipython",
    "version": 3
   },
   "file_extension": ".py",
   "mimetype": "text/x-python",
   "name": "python",
   "nbconvert_exporter": "python",
   "pygments_lexer": "ipython3",
   "version": "3.12.6"
  }
 },
 "nbformat": 4,
 "nbformat_minor": 5
}
